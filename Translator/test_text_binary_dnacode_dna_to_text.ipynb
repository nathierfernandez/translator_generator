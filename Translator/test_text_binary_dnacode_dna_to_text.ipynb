{
 "cells": [
  {
   "cell_type": "code",
   "execution_count": 6,
   "metadata": {},
   "outputs": [
    {
     "name": "stdout",
     "output_type": "stream",
     "text": [
      " the virus is now a word\n"
     ]
    }
   ],
   "source": [
    "# from: STACKOVERFLOW Vrom Python; DNA Sequence to AscII Text #\n",
    "\n",
    "\n",
    "tbl = str.maketrans('ACGT', '0011', '\\n \\ufeff')\n",
    "\n",
    "def dna_to_bytes(dna, offset=0):\n",
    "    \n",
    "    # Convert DNA letters to zero and one characters\n",
    "    bits = dna.translate(tbl)\n",
    "    # Convert groups of 8 zeros and ones to bytes, starting from `offset`\n",
    "    return bytes(int(bits[i:i+8], 2) for i in range(offset, len(bits), 8))\n",
    "\n",
    "dna = '''\\\n",
    " \n",
    "CCTCAACACTTGATAAAGTCGCCACTTACGCGCAGAACACAGGGAGGCATGATCATAGGTCCGACTTTCGCTATTGACGGCCGAACCCCGTAGAAGCTTGACTGCATAAAAACTTAGTTAAGGATGGGAGTGATGTACTACCCCAGGCCAATCAGAACCAAGGTATTTAGTCTGGGCGTTCATCCTGCATAA\n",
    "\n",
    "'''\n",
    "\n",
    "print(dna_to_bytes(dna).decode('ascii'))"
   ]
  },
  {
   "cell_type": "code",
   "execution_count": 35,
   "metadata": {},
   "outputs": [
    {
     "data": {
      "text/plain": [
       "189"
      ]
     },
     "execution_count": 35,
     "metadata": {},
     "output_type": "execute_result"
    }
   ],
   "source": [
    "len(dna)\n",
    "\n"
   ]
  },
  {
   "cell_type": "code",
   "execution_count": 36,
   "metadata": {},
   "outputs": [
    {
     "data": {
      "text/plain": [
       "94.5"
      ]
     },
     "execution_count": 36,
     "metadata": {},
     "output_type": "execute_result"
    }
   ],
   "source": [
    "len(dna)/2"
   ]
  },
  {
   "cell_type": "code",
   "execution_count": 2,
   "metadata": {
    "scrolled": true
   },
   "outputs": [
    {
     "name": "stdout",
     "output_type": "stream",
     "text": [
      "['01110100', '01101000', '01100101', '00100000', '01110110', '01101001', '01110010', '01110101', '01110011', '00100000', '01101001', '01110011', '00100000', '01101110', '01101111', '01110111', '00100000', '01100001', '00100000', '01110111', '01101111', '01110010', '01100100']\n"
     ]
    }
   ],
   "source": [
    "#Nicolas es un genio!\n",
    "\n",
    "a = 'the virus is now a word'\n",
    "a_bytes = bytes(a, \"ascii\")\n",
    "# print(a_bytes)\n",
    "a_string_bytes = [\"{0:b}\".format(x) for x in a_bytes]\n",
    "for i in range(len(a_string_bytes)):\n",
    "    while (len(a_string_bytes[i]) < 8):\n",
    "        a_string_bytes[i] = '0' + a_string_bytes[i]\n",
    "print(a_string_bytes)\n",
    "# print(' 0'.join([\"{0:b}\".format(x) for x in a_bytes]))"
   ]
  },
  {
   "cell_type": "code",
   "execution_count": 63,
   "metadata": {
    "scrolled": true
   },
   "outputs": [
    {
     "name": "stdout",
     "output_type": "stream",
     "text": [
      "0111010001101000011001010010000001110110011010010111001001110101011100110010000001101001011100110010000001101110011011110111011100100000011000010010000001110111011011110111001001100100\n"
     ]
    }
   ],
   "source": [
    "a_string = ''.join(a_string_bytes)\n",
    "print(a_string)"
   ]
  },
  {
   "cell_type": "markdown",
   "metadata": {},
   "source": [
    "01110100 01101000 01100101 00100000 01110110 01101001 01110010 01110101 01110011 00100000 01101001 01110011 00100000 01101110 01101111 01110111 00100000 01100001 00100000 01110111 01101111 01110010 01100100"
   ]
  },
  {
   "cell_type": "code",
   "execution_count": 101,
   "metadata": {},
   "outputs": [],
   "source": [
    "#short bp translationDNA #\n",
    "\n",
    "inputStr = '011010000110010100100000011101100110100101110010011101010111001100100000011010010111001100100000011011100110111101110111001000000110000100100000011101110110111101110010' # ABCD\n",
    "outputStr = ''\n",
    "\n",
    "for start in range(0, len(inputStr), 2):\n",
    "    word = inputStr[start:start+2]\n",
    "    if word == '00': outputStr += 'A'\n",
    "    elif word == '01': outputStr += 'T'\n",
    "    elif word == '10': outputStr += 'C'\n",
    "    elif word == '11': outputStr += 'G'"
   ]
  },
  {
   "cell_type": "code",
   "execution_count": 100,
   "metadata": {},
   "outputs": [
    {
     "data": {
      "text/plain": [
       "'TCCATCTTACAATGTCTCCTTGACTGTTTGAGACAATCCTTGAGACAATCGCTCGGTGTGACAATCATACAATGTGTCGG'"
      ]
     },
     "execution_count": 100,
     "metadata": {},
     "output_type": "execute_result"
    }
   ],
   "source": [
    "outputStr"
   ]
  },
  {
   "cell_type": "code",
   "execution_count": 4,
   "metadata": {},
   "outputs": [
    {
     "data": {
      "text/plain": [
       "192"
      ]
     },
     "execution_count": 4,
     "metadata": {},
     "output_type": "execute_result"
    }
   ],
   "source": [
    "len(outputStr)"
   ]
  },
  {
   "cell_type": "code",
   "execution_count": null,
   "metadata": {},
   "outputs": [],
   "source": []
  },
  {
   "cell_type": "code",
   "execution_count": 5,
   "metadata": {},
   "outputs": [
    {
     "data": {
      "text/plain": [
       "96.0"
      ]
     },
     "execution_count": 5,
     "metadata": {},
     "output_type": "execute_result"
    }
   ],
   "source": [
    "len(outputStr)/2"
   ]
  },
  {
   "cell_type": "code",
   "execution_count": null,
   "metadata": {},
   "outputs": [],
   "source": []
  },
  {
   "cell_type": "code",
   "execution_count": 107,
   "metadata": {},
   "outputs": [],
   "source": [
    "#short bp translationDNA #\n",
    "\n",
    "inputStr = '001000000111010001101000011001010010000001110110011010010111001001110101011100110010000001101001011100110010000001101110011011110111011100100000011000010010000001110111011011110111001001100100' # ABCD\n",
    "outputStr = ''\n",
    "\n",
    "for start in range(0, len(inputStr), 2):\n",
    "    word = inputStr[start:start+2]\n",
    "    if word == '00': outputStr += 'A'\n",
    "    elif word == '01': outputStr += 'T'\n",
    "    elif word == '10': outputStr += 'C'\n",
    "    elif word == '11': outputStr += 'G'"
   ]
  },
  {
   "cell_type": "code",
   "execution_count": 108,
   "metadata": {},
   "outputs": [
    {
     "data": {
      "text/plain": [
       "'ACAATGTATCCATCTTACAATGTCTCCTTGACTGTTTGAGACAATCCTTGAGACAATCGCTCGGTGTGACAATCATACAATGTGTCGGTGACTCTA'"
      ]
     },
     "execution_count": 108,
     "metadata": {},
     "output_type": "execute_result"
    }
   ],
   "source": [
    "outputStr"
   ]
  },
  {
   "cell_type": "code",
   "execution_count": 2,
   "metadata": {},
   "outputs": [],
   "source": [
    "import random"
   ]
  },
  {
   "cell_type": "code",
   "execution_count": null,
   "metadata": {},
   "outputs": [],
   "source": []
  },
  {
   "cell_type": "code",
   "execution_count": 3,
   "metadata": {
    "scrolled": false
   },
   "outputs": [
    {
     "name": "stdout",
     "output_type": "stream",
     "text": [
      "CATCCCCCCTGGATAAATGCTACCCTGCATATCATAAAAAAGTTCTTCATTATCATCGTTAATCAGTGATCGCTTGACGTCAGCCCCCCTGCGAAGCTGGAATTAAGCACAACTTATGTCCTGAGGTTCTTTATTGCAGCCCCACTTAACCTCATACACCCTGTAGTGAGTAGTTTCGGGAAGCCGTCCTCC\n"
     ]
    }
   ],
   "source": [
    "#translator original#\n",
    "\n",
    "inputStr = '001000000111010001101000011001010010000001110110011010010111001001110101011100110010000001101001011100110010000001101110011011110111011100100000011000010010000001110111011011110111001001100100'# TEXT\n",
    "\n",
    "outputStr = \"\"\n",
    "\n",
    "for num in inputStr:\n",
    "    if num == '0':\n",
    "        outputStr += random.sample(['A', 'C'], 1)[0]\n",
    "    elif num == '1':\n",
    "        outputStr += random.sample(['T', 'G'], 1)[0]\n",
    "\n",
    "print(outputStr)\n"
   ]
  },
  {
   "cell_type": "code",
   "execution_count": null,
   "metadata": {},
   "outputs": [],
   "source": []
  },
  {
   "cell_type": "code",
   "execution_count": null,
   "metadata": {},
   "outputs": [],
   "source": []
  },
  {
   "cell_type": "code",
   "execution_count": 8,
   "metadata": {},
   "outputs": [
    {
     "name": "stdout",
     "output_type": "stream",
     "text": [
      "1000011001010010000001110110011010010111001001110101011100110010000001101001011100110010000001101110011011110111011100100000011000010010000001110111\n"
     ]
    }
   ],
   "source": [
    "#translator short dna to binary#\n",
    "\n",
    "inputStr = 'CATCTTACAATGTCTCCTTGACTGTTTGAGACAATCCTTGAGACAATCGCTCGGTGTGACAATCATACAATGTG'# TEXT\n",
    "\n",
    "outputStr = \"\"\n",
    "\n",
    "for num in inputStr:\n",
    "    if num == 'A':\n",
    "        outputStr += '00'\n",
    "    elif num == 'T':\n",
    "        outputStr += '01'\n",
    "    elif num == 'C':\n",
    "        outputStr += '10'\n",
    "    elif num == 'G':\n",
    "        outputStr += '11'\n",
    "\n",
    "print(outputStr)\n"
   ]
  },
  {
   "cell_type": "code",
   "execution_count": null,
   "metadata": {},
   "outputs": [],
   "source": []
  },
  {
   "cell_type": "code",
   "execution_count": 9,
   "metadata": {},
   "outputs": [
    {
     "data": {
      "text/plain": [
       "'1000011001010010000001110110011010010111001001110101011100110010000001101001011100110010000001101110011011110111011100100000011000010010000001110111'"
      ]
     },
     "execution_count": 9,
     "metadata": {},
     "output_type": "execute_result"
    }
   ],
   "source": [
    "outputStr"
   ]
  },
  {
   "cell_type": "code",
   "execution_count": null,
   "metadata": {},
   "outputs": [],
   "source": []
  },
  {
   "cell_type": "code",
   "execution_count": 10,
   "metadata": {},
   "outputs": [
    {
     "data": {
      "text/plain": [
       "'\\x08e virus is now a w'"
      ]
     },
     "execution_count": 10,
     "metadata": {},
     "output_type": "execute_result"
    }
   ],
   "source": [
    "bits = \"1000011001010010000001110110011010010111001001110101011100110010000001101001011100110010000001101110011011110111011100100000011000010010000001110111\"\n",
    ">>> n = int(bits, 2)\n",
    ">>> n.to_bytes((n.bit_length() + 7) // 8, 'big').decode()\n"
   ]
  },
  {
   "cell_type": "code",
   "execution_count": null,
   "metadata": {},
   "outputs": [],
   "source": []
  },
  {
   "cell_type": "code",
   "execution_count": null,
   "metadata": {},
   "outputs": [],
   "source": []
  },
  {
   "cell_type": "code",
   "execution_count": null,
   "metadata": {},
   "outputs": [],
   "source": []
  }
 ],
 "metadata": {
  "kernelspec": {
   "display_name": "Python 3",
   "language": "python",
   "name": "python3"
  },
  "language_info": {
   "codemirror_mode": {
    "name": "ipython",
    "version": 3
   },
   "file_extension": ".py",
   "mimetype": "text/x-python",
   "name": "python",
   "nbconvert_exporter": "python",
   "pygments_lexer": "ipython3",
   "version": "3.6.4"
  }
 },
 "nbformat": 4,
 "nbformat_minor": 2
}
