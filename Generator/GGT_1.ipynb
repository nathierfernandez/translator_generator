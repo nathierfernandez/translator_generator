{
 "cells": [
  {
   "cell_type": "code",
   "execution_count": 1,
   "metadata": {},
   "outputs": [],
   "source": [
    "import spacy"
   ]
  },
  {
   "cell_type": "code",
   "execution_count": 2,
   "metadata": {},
   "outputs": [],
   "source": [
    "import random"
   ]
  },
  {
   "cell_type": "code",
   "execution_count": 3,
   "metadata": {},
   "outputs": [],
   "source": [
    "# use the core web medium package\n",
    "nlp = spacy.load('en_core_web_md')"
   ]
  },
  {
   "cell_type": "markdown",
   "metadata": {},
   "source": [
    "## DNA to RNA\n"
   ]
  },
  {
   "cell_type": "code",
   "execution_count": 4,
   "metadata": {},
   "outputs": [],
   "source": [
    "dna=\"\"\"ATGAGTACCGCTAAATTAGTTAAATCAAAAGCGACCAATCTGCTTTATACCCGCAACGATGTCTCTGATAGCGAGAAAAAAGCAACAGTAGAGTTGCTGAATCGCCAGGTTATCCAGTTTATTGATCTTTCTTTGATTACCAAACAAGCGCACTGGAACATGCGCGGCGCTAACTTCATTGCCGTACATGAAATGCTGGATGGCTTCCGCACTGCACTGATCGATCATCTGGATACCATGGCAGAACGTGCAGTGCAGCTAGGCGGTGTAGCTCTGGGGACCACTCAAGTTATCAACAGCAAAACCCCGCTGAAAAGTTACCCGCTGGACATCCACAACGTTCAGGATCACCTGAAAGAACTGGCTGACCGTTACGCAATCGTCGCTAATGACGTACGCAAAGCGATTGGCGAAGCGAAAGATGACGACACCGCAGATATCCTGACCGCCGCGTCTCGCGACCTGGATAAATTCCTGTGGTTTATCGAGTCTAACATCGAATAA\"\"\"\n"
   ]
  },
  {
   "cell_type": "code",
   "execution_count": null,
   "metadata": {},
   "outputs": [],
   "source": []
  },
  {
   "cell_type": "code",
   "execution_count": 5,
   "metadata": {},
   "outputs": [],
   "source": [
    "rna= dna.replace(\"T\", \"U\")"
   ]
  },
  {
   "cell_type": "code",
   "execution_count": 6,
   "metadata": {},
   "outputs": [
    {
     "data": {
      "text/plain": [
       "'AUGAGUACCGCUAAAUUAGUUAAAUCAAAAGCGACCAAUCUGCUUUAUACCCGCAACGAUGUCUCUGAUAGCGAGAAAAAAGCAACAGUAGAGUUGCUGAAUCGCCAGGUUAUCCAGUUUAUUGAUCUUUCUUUGAUUACCAAACAAGCGCACUGGAACAUGCGCGGCGCUAACUUCAUUGCCGUACAUGAAAUGCUGGAUGGCUUCCGCACUGCACUGAUCGAUCAUCUGGAUACCAUGGCAGAACGUGCAGUGCAGCUAGGCGGUGUAGCUCUGGGGACCACUCAAGUUAUCAACAGCAAAACCCCGCUGAAAAGUUACCCGCUGGACAUCCACAACGUUCAGGAUCACCUGAAAGAACUGGCUGACCGUUACGCAAUCGUCGCUAAUGACGUACGCAAAGCGAUUGGCGAAGCGAAAGAUGACGACACCGCAGAUAUCCUGACCGCCGCGUCUCGCGACCUGGAUAAAUUCCUGUGGUUUAUCGAGUCUAACAUCGAAUAA'"
      ]
     },
     "execution_count": 6,
     "metadata": {},
     "output_type": "execute_result"
    }
   ],
   "source": [
    "rna"
   ]
  },
  {
   "cell_type": "markdown",
   "metadata": {},
   "source": [
    "## Codons to proteins\n"
   ]
  },
  {
   "cell_type": "code",
   "execution_count": 7,
   "metadata": {},
   "outputs": [],
   "source": [
    "group = [rna[i:i+3] for i in range(0, len(rna), 3)]"
   ]
  },
  {
   "cell_type": "code",
   "execution_count": 115,
   "metadata": {},
   "outputs": [],
   "source": [
    "#group = ' '.join([rna[i:i+3] for i in range(0, len(rna), 3)])"
   ]
  },
  {
   "cell_type": "code",
   "execution_count": 132,
   "metadata": {
    "scrolled": true
   },
   "outputs": [],
   "source": [
    "#group"
   ]
  },
  {
   "cell_type": "code",
   "execution_count": 8,
   "metadata": {},
   "outputs": [],
   "source": [
    "rna_codon = {\"UUU\" : \"F\", \"CUU\" : \"L\", \"AUU\" : \"I\", \"GUU\" : \"V\",\n",
    "           \"UUC\" : \"F\", \"CUC\" : \"L\", \"AUC\" : \"I\", \"GUC\" : \"V\",\n",
    "           \"UUA\" : \"L\", \"CUA\" : \"L\", \"AUA\" : \"I\", \"GUA\" : \"V\",\n",
    "           \"UUG\" : \"L\", \"CUG\" : \"L\", \"AUG\" : \"M\", \"GUG\" : \"V\",\n",
    "           \"UCU\" : \"S\", \"CCU\" : \"P\", \"ACU\" : \"T\", \"GCU\" : \"A\",\n",
    "           \"UCC\" : \"S\", \"CCC\" : \"P\", \"ACC\" : \"T\", \"GCC\" : \"A\",\n",
    "           \"UCA\" : \"S\", \"CCA\" : \"P\", \"ACA\" : \"T\", \"GCA\" : \"A\",\n",
    "           \"UCG\" : \"S\", \"CCG\" : \"P\", \"ACG\" : \"T\", \"GCG\" : \"A\",\n",
    "           \"UAU\" : \"Y\", \"CAU\" : \"H\", \"AAU\" : \"N\", \"GAU\" : \"D\",\n",
    "           \"UAC\" : \"Y\", \"CAC\" : \"H\", \"AAC\" : \"N\", \"GAC\" : \"D\",\n",
    "           \"UAA\" : \"STOP\", \"CAA\" : \"Q\", \"AAA\" : \"K\", \"GAA\" : \"E\",\n",
    "           \"UAG\" : \"STOP\", \"CAG\" : \"Q\", \"AAG\" : \"K\", \"GAG\" : \"E\",\n",
    "           \"UGU\" : \"C\", \"CGU\" : \"R\", \"AGU\" : \"S\", \"GGU\" : \"G\",\n",
    "           \"UGC\" : \"C\", \"CGC\" : \"R\", \"AGC\" : \"S\", \"GGC\" : \"G\",\n",
    "           \"UGA\" : \"STOP\", \"CGA\" : \"R\", \"AGA\" : \"R\", \"GGA\" : \"G\",\n",
    "           \"UGG\" : \"W\", \"CGG\" : \"R\", \"AGG\" : \"R\", \"GGG\" : \"G\" \n",
    "           }\n",
    "\n"
   ]
  },
  {
   "cell_type": "code",
   "execution_count": 9,
   "metadata": {},
   "outputs": [],
   "source": [
    "protein_string = \"\"\n",
    "for i in range(0, len(rna)-(3+len(rna)%3), 3):\n",
    "    if rna_codon[rna[i:i+3]] == \"STOP\" :\n",
    "        break\n",
    "    protein_string += rna_codon[rna[i:i+3]]\n"
   ]
  },
  {
   "cell_type": "code",
   "execution_count": 10,
   "metadata": {},
   "outputs": [
    {
     "data": {
      "text/plain": [
       "'MSTAKLVKSKATNLLYTRNDVSDSEKKATVELLNRQVIQFIDLSLITKQAHWNMRGANFIAVHEMLDGFRTALIDHLDTMAERAVQLGGVALGTTQVINSKTPLKSYPLDIHNVQDHLKELADRYAIVANDVRKAIGEAKDDDTADILTAASRDLDKFLWFIESNIE'"
      ]
     },
     "execution_count": 10,
     "metadata": {},
     "output_type": "execute_result"
    }
   ],
   "source": [
    "protein_string"
   ]
  },
  {
   "cell_type": "code",
   "execution_count": null,
   "metadata": {},
   "outputs": [],
   "source": []
  },
  {
   "cell_type": "code",
   "execution_count": null,
   "metadata": {},
   "outputs": [],
   "source": []
  },
  {
   "cell_type": "markdown",
   "metadata": {},
   "source": [
    "## Parts of speech codon table"
   ]
  },
  {
   "cell_type": "code",
   "execution_count": 172,
   "metadata": {},
   "outputs": [],
   "source": [
    "# open document and spacy all the text\n",
    "src_txt = open(\"genesis.txt\").read().lower()\n",
    "doc = nlp(src_txt)\n",
    "text = [word.text for word in doc.sents]"
   ]
  },
  {
   "cell_type": "code",
   "execution_count": 173,
   "metadata": {},
   "outputs": [],
   "source": [
    "# make lists per each pos_ type\n",
    "adjs    = [word.text for word in doc if word.pos_ == \"ADJ\"]\n",
    "adpos   = [word.text for word in doc if word.pos_ == \"ADP\"]\n",
    "advs    = [word.text for word in doc if word.pos_ == \"ADV\"]\n",
    "aux     = [word.text for word in doc if word.pos_ == \"AUX\"]\n",
    "conj    = [word.text for word in doc if word.pos_ == \"CONJ\"]\n",
    "co_conj = [word.text for word in doc if word.pos_ == \"CCONJ\"]\n",
    "deter   = [word.text for word in doc if word.pos_ == \"DET\"]\n",
    "inter   = [word.text for word in doc if word.pos_ == \"INTJ\"]\n",
    "noun    = [word.text for word in doc if word.pos_ == \"NOUN\"]\n",
    "num     = [word.text for word in doc if word.pos_ == \"NUM\"]\n",
    "part    = [word.text for word in doc if word.pos_ == \"PART\"]\n",
    "pron    = [word.text for word in doc if word.pos_ == \"PRON\"]\n",
    "proper  = [word.text for word in doc if word.pos_ == \"PROPN\"]\n",
    "punct   = [word.text for word in doc if word.pos_ == \"PUNCT\"]\n",
    "sub_conj= [word.text for word in doc if word.pos_ == \"SCONJ\"]\n",
    "sym     = [word.text for word in doc if word.pos_ == \"SYM\"]\n",
    "verb    = [word.text for word in doc if word.pos_ == \"VERB\"]\n",
    "other   = [word.text for word in doc if word.pos_ == \"x\"]\n",
    "space   = [word.text for word in doc if word.pos_ == \"SPACE\"]\n"
   ]
  },
  {
   "cell_type": "code",
   "execution_count": 174,
   "metadata": {},
   "outputs": [],
   "source": [
    "# assign each codon to a pos_ type\n",
    "lng_codon = {\"UUU\" : \"ADJ\", \"CUU\" : \"VERB\", \"AUU\" : \"ADV\", \"GUU\" : \"NOUN\",\n",
    "           \"UUC\" : \"ADJ\", \"CUC\" : \"VERB\", \"AUC\" : \"ADV\", \"GUC\" : \"NOUN\",\n",
    "           \"UUA\" : \"VERB\", \"CUA\" : \"VERB\", \"AUA\" : \"ADV\", \"GUA\" : \"NOUN\",\n",
    "           \"UUG\" : \"VERB\", \"CUG\" : \"VERB\", \"AUG\" : \"M\", \"GUG\" : \"NOUN\",\n",
    "           \"UCU\" : \"ADP\", \"CCU\" : \"AUX\", \"ACU\" : \"CONJ\", \"GCU\" : \"CCONJ\",\n",
    "           \"UCC\" : \"ADP\", \"CCC\" : \"AUX\", \"ACC\" : \"CONJ\", \"GCC\" : \"CCONJ\",\n",
    "           \"UCA\" : \"ADP\", \"CCA\" : \"AUX\", \"ACA\" : \"CONJ\", \"GCA\" :\"CCONJ\",\n",
    "           \"UCG\" : \"ADP\", \"CCG\" : \"AUX\", \"ACG\" : \"CONJ\", \"GCG\" : \"CCONJ\",\n",
    "           \"UAU\" : \"DET\", \"CAU\" : \"INTJ\", \"AAU\" : \"PART\", \"GAU\" : \"PUNCT\",\n",
    "           \"UAC\" : \"DET\", \"CAC\" : \"INTJ\", \"AAC\" : \"PART\", \"GAC\" : \"PUNCT\",\n",
    "           \"UAA\" : \"SPACE\", \"CAA\" : \"NUM\", \"AAA\" : \"ADJ\", \"GAA\" : \"PUNCT\",\n",
    "           \"UAG\" : \"SPACE\", \"CAG\" : \"NUM\", \"AAG\" : \"ADJ\", \"GAG\" : \"PUNCT\",\n",
    "           \"UGU\" : \"SCONJ\", \"CGU\" : \"PRON\", \"AGU\" : \"SYM\", \"GGU\" : \"PROPN\",\n",
    "           \"UGC\" : \"SCONJ\", \"CGC\" : \"PRON\", \"AGC\" : \"SYM\", \"GGC\" :\"PROPN\",\n",
    "           \"UGA\" : \"LINE\", \"CGA\" : \"PRON\", \"AGA\" : \"X\", \"GGA\" : \"PROPN\",\n",
    "           \"UGG\" : \"W\", \"CGG\" : \"PRON\", \"AGG\" : \"X\", \"GGG\" : \"PROPN\" }"
   ]
  },
  {
   "cell_type": "code",
   "execution_count": 175,
   "metadata": {},
   "outputs": [],
   "source": [
    "# make dict with list of words per pos_ type\n",
    "list_pos = [\"ADJ\",\"ADP\",\"ADV\",\"AUX\",\"CONJ\",\"CCONJ\",\"DET\",\"INTJ\",\"NOUN\",\"NUM\",\"PART\",\"PRON\",\"PROPN\",\"PUNCT\",\"SCONJ\",\"SYM\",\"VERB\",\"X\",\"SPACE\"]\n",
    "pos_words = {}\n",
    "for pos in list_pos:\n",
    "    pos_words[pos] = [word.text for word in doc if word.pos_ == pos]\n",
    "    "
   ]
  },
  {
   "cell_type": "code",
   "execution_count": 176,
   "metadata": {},
   "outputs": [],
   "source": [
    " pos_words[\"LINE\"] = \"\\n\""
   ]
  },
  {
   "cell_type": "code",
   "execution_count": 181,
   "metadata": {},
   "outputs": [
    {
     "name": "stdout",
     "output_type": "stream",
     "text": [
      "LINE\n"
     ]
    }
   ],
   "source": [
    "print( lng_codon[\"UGA\"] )"
   ]
  },
  {
   "cell_type": "code",
   "execution_count": 186,
   "metadata": {},
   "outputs": [
    {
     "name": "stdout",
     "output_type": "stream",
     "text": [
      "\n",
      "\n"
     ]
    }
   ],
   "source": [
    "print( pos_words[lng_codon[\"UGA\"]] ) # a que corresponde el codon"
   ]
  },
  {
   "cell_type": "code",
   "execution_count": 187,
   "metadata": {
    "scrolled": true
   },
   "outputs": [
    {
     "name": "stdout",
     "output_type": "stream",
     "text": [
      "['forth', 'to', 'to', 'to', 'to', 'to', 'to', 'to']\n"
     ]
    }
   ],
   "source": [
    "print( pos_words[lng_codon[\"AAU\"]] ) # la lista de palabras que corrresponden al caso (pos)"
   ]
  },
  {
   "cell_type": "code",
   "execution_count": 143,
   "metadata": {},
   "outputs": [
    {
     "name": "stdout",
     "output_type": "stream",
     "text": [
      "['to']\n"
     ]
    }
   ],
   "source": [
    "print( random.sample(pos_words[lng_codon[\"AAU\"]],1) ) # una muestra random (como list)"
   ]
  },
  {
   "cell_type": "code",
   "execution_count": 144,
   "metadata": {},
   "outputs": [
    {
     "name": "stdout",
     "output_type": "stream",
     "text": [
      "to\n"
     ]
    }
   ],
   "source": [
    "print( random.sample(pos_words[lng_codon[\"AAU\"]],1)[0] ) # la palabra pero como string (no list)"
   ]
  },
  {
   "cell_type": "code",
   "execution_count": 178,
   "metadata": {},
   "outputs": [
    {
     "name": "stdout",
     "output_type": "stream",
     "text": [
      "and dry divided seasons fifth in firmament and to shall is the i to . cattle after , . good whose and days . divide fly to i two god there one their so ; given from was so green two and god to us heaven and to fruitful there and morning god : is . heaven hath he and creeping there : god is : and . it and fowl two was heaven heaven creature and said heaven two man so to fruitful let our the saw , abundantly god to god one , god fly his . yielding and , them the and there evening and to : god it hath and there heaven , and which . , , and , there were and and over them , give : open fruitful saw second forth , upon to forth , \n",
      " \n"
     ]
    }
   ],
   "source": [
    "text_pos = \"\"\n",
    "for codon in group:\n",
    "    if codon in lng_codon.keys():\n",
    "        if (lng_codon[codon] == 'M' or lng_codon[codon] == 'W'):\n",
    "            continue\n",
    "        possible_words = pos_words[lng_codon[codon]]\n",
    "        if len(possible_words) > 0:\n",
    "            text_pos += random.sample(possible_words,1)[0] + ' '\n",
    "\n",
    "print(text_pos)"
   ]
  },
  {
   "cell_type": "code",
   "execution_count": 149,
   "metadata": {},
   "outputs": [],
   "source": [
    "import re\n"
   ]
  },
  {
   "cell_type": "code",
   "execution_count": 171,
   "metadata": {},
   "outputs": [
    {
     "name": "stdout",
     "output_type": "stream",
     "text": [
      "And their were stars dry to which and forth made blessed the us to , kind without , . Which which and god , made let to it two earth forth one their forth , moving over appear so his two and god to i heaven and to our so and thing god , moving , heaven that it and saw so . God saw , and , them and fowl two let heaven heaven waters and be heaven two cattle so to male were that the said . So god to meat one , god gathered second , yielding and , it the and also darkness and to , creature itself that and abundantly heaven . And great . . . And : abundantly saw and and after he : was , his his was light so : upon to also , \n",
      " \n"
     ]
    }
   ],
   "source": [
    "ggt = text_pos\n",
    "\n",
    "punc_filter = re.compile('([.!?]\\s*)')\n",
    "split_with_punctuation = punc_filter.split(ggt)\n",
    "\n",
    "final = ''.join([i.capitalize() for i in split_with_punctuation])\n",
    "print(final)"
   ]
  },
  {
   "cell_type": "code",
   "execution_count": null,
   "metadata": {},
   "outputs": [],
   "source": []
  },
  {
   "cell_type": "code",
   "execution_count": null,
   "metadata": {},
   "outputs": [],
   "source": []
  },
  {
   "cell_type": "code",
   "execution_count": null,
   "metadata": {},
   "outputs": [],
   "source": []
  },
  {
   "cell_type": "code",
   "execution_count": null,
   "metadata": {},
   "outputs": [],
   "source": []
  }
 ],
 "metadata": {
  "kernelspec": {
   "display_name": "Python 3",
   "language": "python",
   "name": "python3"
  },
  "language_info": {
   "codemirror_mode": {
    "name": "ipython",
    "version": 3
   },
   "file_extension": ".py",
   "mimetype": "text/x-python",
   "name": "python",
   "nbconvert_exporter": "python",
   "pygments_lexer": "ipython3",
   "version": "3.6.4"
  }
 },
 "nbformat": 4,
 "nbformat_minor": 2
}
